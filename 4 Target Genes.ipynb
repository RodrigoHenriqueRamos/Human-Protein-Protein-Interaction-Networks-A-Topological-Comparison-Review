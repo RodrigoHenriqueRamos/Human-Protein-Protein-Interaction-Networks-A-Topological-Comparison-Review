{
 "cells": [
  {
   "cell_type": "code",
   "execution_count": 1,
   "id": "066ac5eb",
   "metadata": {},
   "outputs": [],
   "source": [
    "import warnings\n",
    "warnings.filterwarnings('ignore')\n",
    "import networkx as nx\n",
    "import pandas as pd\n",
    "import numpy as np\n",
    "import matplotlib.pyplot as plt\n",
    "import seaborn as sns\n",
    "import pickle"
   ]
  },
  {
   "cell_type": "markdown",
   "id": "447af573",
   "metadata": {},
   "source": [
    "## Target Genes"
   ]
  },
  {
   "cell_type": "code",
   "execution_count": 3,
   "id": "368b56bc",
   "metadata": {},
   "outputs": [],
   "source": [
    "targetGenes={}"
   ]
  },
  {
   "cell_type": "markdown",
   "id": "ced21d62",
   "metadata": {},
   "source": [
    "##### Drivers"
   ]
  },
  {
   "cell_type": "code",
   "execution_count": 4,
   "id": "6cf0ed47",
   "metadata": {},
   "outputs": [],
   "source": [
    "intOGenTopList=list(pd.read_csv('1 - input/IntOGen-TopDriverGenes.tsv',sep='\\t')['Symbol'])\n",
    "targetGenes['Top Drivers']=intOGenTopList[0:15]"
   ]
  },
  {
   "cell_type": "markdown",
   "id": "2c93323f",
   "metadata": {},
   "source": [
    "##### Alzheimer’s Genes\n",
    "* https://www.ukri.org/news/study-reveals-42-new-genes-associated-with-alzheimers-disease/<br>\n",
    "* https://www.nature.com/articles/s41588-022-01024-z#Sec5<br>\n",
    "* https://static-content.springer.com/esm/art%3A10.1038%2Fs41588-022-01024-z/MediaObjects/41588_2022_1024_MOESM1_ESM.pdf (I took the genes from the Supplementary Material, page 47 (Loci with a single Tier 1 prioritized gene ))"
   ]
  },
  {
   "cell_type": "code",
   "execution_count": 5,
   "id": "6b2c9850",
   "metadata": {},
   "outputs": [
    {
     "name": "stdout",
     "output_type": "stream",
     "text": [
      "25\n",
      "21\n"
     ]
    }
   ],
   "source": [
    "#Loci with a single Tier 1 prioritized gene\n",
    "alzheimerGenes = ['SORT1','NKC2','WDR12','MME','RHOH','ANKH','TNIP1','ICA1','TMEM106B','JAZF1','SEC61G','CTSB','SHARPIN','ABCA1','TSPAN14','BLNK','PLEKHA1','CTSH','DOC2A','MAF','GRN','SIGLEC11','RBCK1','SLC2A4RG','APP']\n",
    "print(len(alzheimerGenes))\n",
    "#We kept only genes presents in at least 4 netoworks. Since the study fin novel genes associated with Alzheimer, its expected that non-famous genes will appear \n",
    "alzheimerGenes.remove('NKC2')\n",
    "alzheimerGenes.remove('SLC2A4RG')\n",
    "alzheimerGenes.remove('ANKH')\n",
    "alzheimerGenes.remove('SIGLEC11')\n",
    "print(len(alzheimerGenes))\n",
    "targetGenes['Alzheimer']=alzheimerGenes"
   ]
  },
  {
   "cell_type": "markdown",
   "id": "eb2a21ee",
   "metadata": {},
   "source": [
    "##### Most popular genes\n",
    "* https://www.nature.com/articles/d41586-017-07291-9\n",
    "* https://www.darkdaily.com/2018/05/16/top-10-list-of-the-most-studied-genes-of-all-time-includes-several-used-in-clinical-laboratory-testing-for-cancers-other-diseases-516/"
   ]
  },
  {
   "cell_type": "code",
   "execution_count": 6,
   "id": "a557d00a",
   "metadata": {},
   "outputs": [],
   "source": [
    "targetGenes['Popular']=['TP53','TNF','EGFR','VEGFA','APOE','IL6','TGFBI','MTHFR','ESR1','AKT1']"
   ]
  },
  {
   "cell_type": "markdown",
   "id": "a6553ad1",
   "metadata": {},
   "source": [
    "##### Diabetes\n",
    "* https://www.ncbi.nlm.nih.gov/pmc/articles/PMC3746083/"
   ]
  },
  {
   "cell_type": "code",
   "execution_count": 7,
   "id": "3f96c2bc",
   "metadata": {},
   "outputs": [
    {
     "name": "stdout",
     "output_type": "stream",
     "text": [
      "['KCNQ1', 'TCF7L2', 'DUSP9', 'CDKN2A/B', 'IRS1', 'IGF2BP2', 'THADA', 'FTO', 'KCNJ11/ABCC8', 'CENTD2', 'PPARG', 'HHEX', 'NOTCH2', 'WFS1', 'CDKAL1', 'SLC30A8', 'HNF1B', 'ADCY5', 'RBMS1/ITGB6', 'TLE4']\n"
     ]
    }
   ],
   "source": [
    "df=pd.read_csv('1 - input/topDiabatesGenes.csv',sep=';')\n",
    "topDiabetes=list(df.sort_values(by=['OR'],ascending=False)['Locus'])\n",
    "print(topDiabetes[0:20])\n",
    "topDiabetes2=['KCNQ1','TCF7L2', 'DUSP9', 'CDKN2A','CDKN2B', 'IRS1', 'IGF2BP2', 'THADA', 'FTO', 'KCNJ11','ABCC8', 'CENTD2', 'PPARG','HHEX', 'NOTCH2', 'WFS1', 'CDKAL1','SLC30A8', 'HNF1B', 'ADCY5']\n",
    "\n",
    "targetGenes['Diabetes']=topDiabetes2"
   ]
  },
  {
   "cell_type": "markdown",
   "id": "f7541d20",
   "metadata": {},
   "source": [
    "<hr style=\"border:1px solid black\">"
   ]
  },
  {
   "cell_type": "code",
   "execution_count": 9,
   "id": "857b524c",
   "metadata": {},
   "outputs": [],
   "source": [
    "file = open('4 - output/targetGenes.pickle', 'wb')\n",
    "pickle.dump(targetGenes, file)\n",
    "file.close()"
   ]
  }
 ],
 "metadata": {
  "kernelspec": {
   "display_name": "Python 3 (ipykernel)",
   "language": "python",
   "name": "python3"
  },
  "language_info": {
   "codemirror_mode": {
    "name": "ipython",
    "version": 3
   },
   "file_extension": ".py",
   "mimetype": "text/x-python",
   "name": "python",
   "nbconvert_exporter": "python",
   "pygments_lexer": "ipython3",
   "version": "3.8.5"
  }
 },
 "nbformat": 4,
 "nbformat_minor": 5
}
